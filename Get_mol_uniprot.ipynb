{
 "cells": [
  {
   "cell_type": "markdown",
   "metadata": {},
   "source": [
    "## Download molecules which interact with Glutamate receptor ionotropic, NMDA 1\n",
    "\n",
    "We are going to download all the molecules that interact with Glutamate receptor ionotropic, NMDA 1, deposited in Uniprot, UniProtKB - P35439 (NMDZ1_RAT)\n",
    "\n",
    "### Connect to ChEMBL database"
   ]
  },
  {
   "cell_type": "markdown",
   "metadata": {},
   "source": [
    "Loading ChEMBL webresource client and python libraries"
   ]
  },
  {
   "cell_type": "code",
   "execution_count": 1,
   "metadata": {},
   "outputs": [],
   "source": [
    "from chembl_webresource_client.new_client import new_client\n",
    "import pandas as pd\n",
    "import math\n",
    "from rdkit.Chem import PandasTools"
   ]
  },
  {
   "cell_type": "markdown",
   "metadata": {},
   "source": [
    "Resource objects for API access. more information about ChEMBL API https://www.ebi.ac.uk/chembl/api/data/docs"
   ]
  },
  {
   "cell_type": "code",
   "execution_count": 2,
   "metadata": {},
   "outputs": [],
   "source": [
    "targets = new_client.target\n",
    "compounds = new_client.molecule\n",
    "bioactivities = new_client.activity"
   ]
  },
  {
   "cell_type": "markdown",
   "metadata": {},
   "source": [
    "Getting information about NMDA 1, UniProtKB - P35439"
   ]
  },
  {
   "cell_type": "code",
   "execution_count": 3,
   "metadata": {},
   "outputs": [
    {
     "name": "stdout",
     "output_type": "stream",
     "text": [
      "<class 'chembl_webresource_client.query_set.QuerySet'>\n"
     ]
    },
    {
     "data": {
      "text/html": [
       "<div>\n",
       "<style scoped>\n",
       "    .dataframe tbody tr th:only-of-type {\n",
       "        vertical-align: middle;\n",
       "    }\n",
       "\n",
       "    .dataframe tbody tr th {\n",
       "        vertical-align: top;\n",
       "    }\n",
       "\n",
       "    .dataframe thead th {\n",
       "        text-align: right;\n",
       "    }\n",
       "</style>\n",
       "<table border=\"1\" class=\"dataframe\">\n",
       "  <thead>\n",
       "    <tr style=\"text-align: right;\">\n",
       "      <th></th>\n",
       "      <th>organism</th>\n",
       "      <th>pref_name</th>\n",
       "      <th>target_chembl_id</th>\n",
       "      <th>target_type</th>\n",
       "    </tr>\n",
       "  </thead>\n",
       "  <tbody>\n",
       "    <tr>\n",
       "      <td>0</td>\n",
       "      <td>Rattus norvegicus</td>\n",
       "      <td>Glutamate (NMDA) receptor subunit zeta 1</td>\n",
       "      <td>CHEMBL330</td>\n",
       "      <td>SINGLE PROTEIN</td>\n",
       "    </tr>\n",
       "    <tr>\n",
       "      <td>1</td>\n",
       "      <td>Rattus norvegicus</td>\n",
       "      <td>Glutamate (NMDA) receptor subunit zeta 1</td>\n",
       "      <td>CHEMBL330</td>\n",
       "      <td>SINGLE PROTEIN</td>\n",
       "    </tr>\n",
       "    <tr>\n",
       "      <td>2</td>\n",
       "      <td>Rattus norvegicus</td>\n",
       "      <td>Glutamate NMDA receptor</td>\n",
       "      <td>CHEMBL1907608</td>\n",
       "      <td>PROTEIN COMPLEX GROUP</td>\n",
       "    </tr>\n",
       "    <tr>\n",
       "      <td>3</td>\n",
       "      <td>Rattus norvegicus</td>\n",
       "      <td>Glutamate NMDA receptor; Grin1/Grin2b</td>\n",
       "      <td>CHEMBL2096666</td>\n",
       "      <td>PROTEIN COMPLEX</td>\n",
       "    </tr>\n",
       "    <tr>\n",
       "      <td>4</td>\n",
       "      <td>Rattus norvegicus</td>\n",
       "      <td>Glutamate receptors; NMDA/AMPA</td>\n",
       "      <td>CHEMBL2096669</td>\n",
       "      <td>PROTEIN COMPLEX GROUP</td>\n",
       "    </tr>\n",
       "    <tr>\n",
       "      <td>5</td>\n",
       "      <td>Rattus norvegicus</td>\n",
       "      <td>Glutamate NMDA receptor; Grin1/Grin2a</td>\n",
       "      <td>CHEMBL2096680</td>\n",
       "      <td>PROTEIN COMPLEX</td>\n",
       "    </tr>\n",
       "    <tr>\n",
       "      <td>6</td>\n",
       "      <td>Rattus norvegicus</td>\n",
       "      <td>Glutamate NMDA receptor; Grin1/Grin2c</td>\n",
       "      <td>CHEMBL2096911</td>\n",
       "      <td>PROTEIN COMPLEX</td>\n",
       "    </tr>\n",
       "    <tr>\n",
       "      <td>7</td>\n",
       "      <td>Rattus norvegicus</td>\n",
       "      <td>Ionotropic glutamate receptor NMDA 1/2D</td>\n",
       "      <td>CHEMBL3038506</td>\n",
       "      <td>PROTEIN COMPLEX</td>\n",
       "    </tr>\n",
       "    <tr>\n",
       "      <td>8</td>\n",
       "      <td>Rattus norvegicus</td>\n",
       "      <td>Ionotropic glutamate receptor NMDA1/2B</td>\n",
       "      <td>CHEMBL4106155</td>\n",
       "      <td>PROTEIN COMPLEX</td>\n",
       "    </tr>\n",
       "    <tr>\n",
       "      <td>9</td>\n",
       "      <td>Rattus norvegicus</td>\n",
       "      <td>Ionotropic glutamate receptor NMDA1/2A/2B</td>\n",
       "      <td>CHEMBL4106156</td>\n",
       "      <td>PROTEIN COMPLEX</td>\n",
       "    </tr>\n",
       "  </tbody>\n",
       "</table>\n",
       "</div>"
      ],
      "text/plain": [
       "            organism                                  pref_name  \\\n",
       "0  Rattus norvegicus   Glutamate (NMDA) receptor subunit zeta 1   \n",
       "1  Rattus norvegicus   Glutamate (NMDA) receptor subunit zeta 1   \n",
       "2  Rattus norvegicus                    Glutamate NMDA receptor   \n",
       "3  Rattus norvegicus      Glutamate NMDA receptor; Grin1/Grin2b   \n",
       "4  Rattus norvegicus             Glutamate receptors; NMDA/AMPA   \n",
       "5  Rattus norvegicus      Glutamate NMDA receptor; Grin1/Grin2a   \n",
       "6  Rattus norvegicus      Glutamate NMDA receptor; Grin1/Grin2c   \n",
       "7  Rattus norvegicus    Ionotropic glutamate receptor NMDA 1/2D   \n",
       "8  Rattus norvegicus     Ionotropic glutamate receptor NMDA1/2B   \n",
       "9  Rattus norvegicus  Ionotropic glutamate receptor NMDA1/2A/2B   \n",
       "\n",
       "  target_chembl_id            target_type  \n",
       "0        CHEMBL330         SINGLE PROTEIN  \n",
       "1        CHEMBL330         SINGLE PROTEIN  \n",
       "2    CHEMBL1907608  PROTEIN COMPLEX GROUP  \n",
       "3    CHEMBL2096666        PROTEIN COMPLEX  \n",
       "4    CHEMBL2096669  PROTEIN COMPLEX GROUP  \n",
       "5    CHEMBL2096680        PROTEIN COMPLEX  \n",
       "6    CHEMBL2096911        PROTEIN COMPLEX  \n",
       "7    CHEMBL3038506        PROTEIN COMPLEX  \n",
       "8    CHEMBL4106155        PROTEIN COMPLEX  \n",
       "9    CHEMBL4106156        PROTEIN COMPLEX  "
      ]
     },
     "execution_count": 3,
     "metadata": {},
     "output_type": "execute_result"
    }
   ],
   "source": [
    "uniprot_id = 'P35439'\n",
    "target_P35439 = targets.get(target_components__accession=uniprot_id) \\\n",
    "                       .only('target_chembl_id', 'organism', 'pref_name', 'target_type')\n",
    "print(type(target_P35439))\n",
    "pd.DataFrame.from_records(target_P35439)"
   ]
  },
  {
   "cell_type": "markdown",
   "metadata": {},
   "source": [
    "### After checking the entries, we select the first entry as our target of interest\n",
    "`CHEMBL330`: It is a Component of NMDA receptor complexes that function as heterotetrameric, ligand-gated ion channels with high calcium permeability and voltage-dependent sensitivity to magnesium. Channel activation requires binding of the neurotransmitter glutamate to the epsilon subunit, glycine binding to the zeta subunit, plus membrane depolarization to eliminate channel inhibition by Mg2+"
   ]
  },
  {
   "cell_type": "code",
   "execution_count": 5,
   "metadata": {},
   "outputs": [
    {
     "data": {
      "text/plain": [
       "{'organism': 'Rattus norvegicus',\n",
       " 'pref_name': 'Glutamate (NMDA) receptor subunit zeta 1',\n",
       " 'target_chembl_id': 'CHEMBL330',\n",
       " 'target_type': 'SINGLE PROTEIN'}"
      ]
     },
     "execution_count": 5,
     "metadata": {},
     "output_type": "execute_result"
    }
   ],
   "source": [
    "target = target_P35439[0]\n",
    "target"
   ]
  },
  {
   "cell_type": "markdown",
   "metadata": {},
   "source": [
    "Saving selected ChEMBL-ID."
   ]
  },
  {
   "cell_type": "code",
   "execution_count": 6,
   "metadata": {},
   "outputs": [
    {
     "data": {
      "text/plain": [
       "'CHEMBL330'"
      ]
     },
     "execution_count": 6,
     "metadata": {},
     "output_type": "execute_result"
    }
   ],
   "source": [
    "chembl_id = target['target_chembl_id']\n",
    "chembl_id"
   ]
  },
  {
   "cell_type": "markdown",
   "metadata": {},
   "source": [
    "### Bioactivity data\n",
    "\n",
    "To query bioactivity data for the target of interest.\n",
    "\n",
    "#### Download and filter bioactivities for the target"
   ]
  },
  {
   "cell_type": "markdown",
   "metadata": {},
   "source": [
    "In this step, we download and filter the bioactivity data and only consider\n",
    "\n",
    "* human proteins\n",
    "* bioactivity type IC50\n",
    "* exact measurements (relation '=')    \n",
    "* binding data (assay type 'B')"
   ]
  },
  {
   "cell_type": "code",
   "execution_count": 7,
   "metadata": {},
   "outputs": [
    {
     "data": {
      "text/plain": [
       "(359, 11, chembl_webresource_client.query_set.QuerySet, dict)"
      ]
     },
     "execution_count": 7,
     "metadata": {},
     "output_type": "execute_result"
    }
   ],
   "source": [
    "bioact = bioactivities.filter(target_chembl_id = chembl_id) \\\n",
    "                      .filter(type = 'IC50') \\\n",
    "                      .filter(relation = '=') \\\n",
    "                      .filter(assay_type = 'B') \\\n",
    "                      .only('activity_id','assay_chembl_id', 'assay_description', 'assay_type', \\\n",
    "                            'molecule_chembl_id', 'type', 'units', 'relation', 'value', \\\n",
    "                            'target_chembl_id', 'target_organism')\n",
    "len(bioact), len(bioact[0]), type(bioact), type(bioact[0])"
   ]
  },
  {
   "cell_type": "markdown",
   "metadata": {},
   "source": [
    "#### Clean and convert bioactivity data\n",
    "\n"
   ]
  },
  {
   "cell_type": "code",
   "execution_count": 8,
   "metadata": {},
   "outputs": [
    {
     "data": {
      "text/plain": [
       "{'activity_id': 33023,\n",
       " 'assay_chembl_id': 'CHEMBL752332',\n",
       " 'assay_description': 'In vitro ability to displace [3H]L-689,560 binding to glycine site on the N-methyl-D-aspartate (NMDA) glutamate receptor 1 from rat cortical membranes',\n",
       " 'assay_type': 'B',\n",
       " 'molecule_chembl_id': 'CHEMBL352332',\n",
       " 'relation': '=',\n",
       " 'target_chembl_id': 'CHEMBL330',\n",
       " 'target_organism': 'Rattus norvegicus',\n",
       " 'type': 'IC50',\n",
       " 'units': 'uM',\n",
       " 'value': '0.5'}"
      ]
     },
     "execution_count": 8,
     "metadata": {},
     "output_type": "execute_result"
    }
   ],
   "source": [
    "bioact[0]"
   ]
  },
  {
   "cell_type": "markdown",
   "metadata": {},
   "source": [
    "Converting to pandas dataframe and show the first 20 results "
   ]
  },
  {
   "cell_type": "code",
   "execution_count": 9,
   "metadata": {},
   "outputs": [
    {
     "data": {
      "text/html": [
       "<div>\n",
       "<style scoped>\n",
       "    .dataframe tbody tr th:only-of-type {\n",
       "        vertical-align: middle;\n",
       "    }\n",
       "\n",
       "    .dataframe tbody tr th {\n",
       "        vertical-align: top;\n",
       "    }\n",
       "\n",
       "    .dataframe thead th {\n",
       "        text-align: right;\n",
       "    }\n",
       "</style>\n",
       "<table border=\"1\" class=\"dataframe\">\n",
       "  <thead>\n",
       "    <tr style=\"text-align: right;\">\n",
       "      <th></th>\n",
       "      <th>activity_id</th>\n",
       "      <th>assay_chembl_id</th>\n",
       "      <th>assay_description</th>\n",
       "      <th>assay_type</th>\n",
       "      <th>molecule_chembl_id</th>\n",
       "      <th>relation</th>\n",
       "      <th>target_chembl_id</th>\n",
       "      <th>target_organism</th>\n",
       "      <th>type</th>\n",
       "      <th>units</th>\n",
       "      <th>value</th>\n",
       "    </tr>\n",
       "  </thead>\n",
       "  <tbody>\n",
       "    <tr>\n",
       "      <td>0</td>\n",
       "      <td>33023</td>\n",
       "      <td>CHEMBL752332</td>\n",
       "      <td>In vitro ability to displace [3H]L-689,560 bin...</td>\n",
       "      <td>B</td>\n",
       "      <td>CHEMBL352332</td>\n",
       "      <td>=</td>\n",
       "      <td>CHEMBL330</td>\n",
       "      <td>Rattus norvegicus</td>\n",
       "      <td>IC50</td>\n",
       "      <td>uM</td>\n",
       "      <td>0.5</td>\n",
       "    </tr>\n",
       "    <tr>\n",
       "      <td>1</td>\n",
       "      <td>33023</td>\n",
       "      <td>CHEMBL752332</td>\n",
       "      <td>In vitro ability to displace [3H]L-689,560 bin...</td>\n",
       "      <td>B</td>\n",
       "      <td>CHEMBL352332</td>\n",
       "      <td>=</td>\n",
       "      <td>CHEMBL330</td>\n",
       "      <td>Rattus norvegicus</td>\n",
       "      <td>IC50</td>\n",
       "      <td>uM</td>\n",
       "      <td>0.5</td>\n",
       "    </tr>\n",
       "    <tr>\n",
       "      <td>2</td>\n",
       "      <td>34260</td>\n",
       "      <td>CHEMBL752332</td>\n",
       "      <td>In vitro ability to displace [3H]L-689,560 bin...</td>\n",
       "      <td>B</td>\n",
       "      <td>CHEMBL164930</td>\n",
       "      <td>=</td>\n",
       "      <td>CHEMBL330</td>\n",
       "      <td>Rattus norvegicus</td>\n",
       "      <td>IC50</td>\n",
       "      <td>uM</td>\n",
       "      <td>0.75</td>\n",
       "    </tr>\n",
       "    <tr>\n",
       "      <td>3</td>\n",
       "      <td>34263</td>\n",
       "      <td>CHEMBL752332</td>\n",
       "      <td>In vitro ability to displace [3H]L-689,560 bin...</td>\n",
       "      <td>B</td>\n",
       "      <td>CHEMBL167201</td>\n",
       "      <td>=</td>\n",
       "      <td>CHEMBL330</td>\n",
       "      <td>Rattus norvegicus</td>\n",
       "      <td>IC50</td>\n",
       "      <td>uM</td>\n",
       "      <td>3.2</td>\n",
       "    </tr>\n",
       "    <tr>\n",
       "      <td>4</td>\n",
       "      <td>35502</td>\n",
       "      <td>CHEMBL752332</td>\n",
       "      <td>In vitro ability to displace [3H]L-689,560 bin...</td>\n",
       "      <td>B</td>\n",
       "      <td>CHEMBL164831</td>\n",
       "      <td>=</td>\n",
       "      <td>CHEMBL330</td>\n",
       "      <td>Rattus norvegicus</td>\n",
       "      <td>IC50</td>\n",
       "      <td>uM</td>\n",
       "      <td>1.1</td>\n",
       "    </tr>\n",
       "    <tr>\n",
       "      <td>5</td>\n",
       "      <td>36723</td>\n",
       "      <td>CHEMBL752332</td>\n",
       "      <td>In vitro ability to displace [3H]L-689,560 bin...</td>\n",
       "      <td>B</td>\n",
       "      <td>CHEMBL351441</td>\n",
       "      <td>=</td>\n",
       "      <td>CHEMBL330</td>\n",
       "      <td>Rattus norvegicus</td>\n",
       "      <td>IC50</td>\n",
       "      <td>uM</td>\n",
       "      <td>1.7</td>\n",
       "    </tr>\n",
       "    <tr>\n",
       "      <td>6</td>\n",
       "      <td>37854</td>\n",
       "      <td>CHEMBL752332</td>\n",
       "      <td>In vitro ability to displace [3H]L-689,560 bin...</td>\n",
       "      <td>B</td>\n",
       "      <td>CHEMBL335431</td>\n",
       "      <td>=</td>\n",
       "      <td>CHEMBL330</td>\n",
       "      <td>Rattus norvegicus</td>\n",
       "      <td>IC50</td>\n",
       "      <td>uM</td>\n",
       "      <td>6.7</td>\n",
       "    </tr>\n",
       "    <tr>\n",
       "      <td>7</td>\n",
       "      <td>39088</td>\n",
       "      <td>CHEMBL752332</td>\n",
       "      <td>In vitro ability to displace [3H]L-689,560 bin...</td>\n",
       "      <td>B</td>\n",
       "      <td>CHEMBL165378</td>\n",
       "      <td>=</td>\n",
       "      <td>CHEMBL330</td>\n",
       "      <td>Rattus norvegicus</td>\n",
       "      <td>IC50</td>\n",
       "      <td>uM</td>\n",
       "      <td>0.78</td>\n",
       "    </tr>\n",
       "    <tr>\n",
       "      <td>8</td>\n",
       "      <td>39091</td>\n",
       "      <td>CHEMBL752332</td>\n",
       "      <td>In vitro ability to displace [3H]L-689,560 bin...</td>\n",
       "      <td>B</td>\n",
       "      <td>CHEMBL351884</td>\n",
       "      <td>=</td>\n",
       "      <td>CHEMBL330</td>\n",
       "      <td>Rattus norvegicus</td>\n",
       "      <td>IC50</td>\n",
       "      <td>uM</td>\n",
       "      <td>0.27</td>\n",
       "    </tr>\n",
       "    <tr>\n",
       "      <td>9</td>\n",
       "      <td>40244</td>\n",
       "      <td>CHEMBL752332</td>\n",
       "      <td>In vitro ability to displace [3H]L-689,560 bin...</td>\n",
       "      <td>B</td>\n",
       "      <td>CHEMBL165449</td>\n",
       "      <td>=</td>\n",
       "      <td>CHEMBL330</td>\n",
       "      <td>Rattus norvegicus</td>\n",
       "      <td>IC50</td>\n",
       "      <td>uM</td>\n",
       "      <td>0.19</td>\n",
       "    </tr>\n",
       "    <tr>\n",
       "      <td>10</td>\n",
       "      <td>41430</td>\n",
       "      <td>CHEMBL752332</td>\n",
       "      <td>In vitro ability to displace [3H]L-689,560 bin...</td>\n",
       "      <td>B</td>\n",
       "      <td>CHEMBL313611</td>\n",
       "      <td>=</td>\n",
       "      <td>CHEMBL330</td>\n",
       "      <td>Rattus norvegicus</td>\n",
       "      <td>IC50</td>\n",
       "      <td>uM</td>\n",
       "      <td>11</td>\n",
       "    </tr>\n",
       "    <tr>\n",
       "      <td>11</td>\n",
       "      <td>41431</td>\n",
       "      <td>CHEMBL752332</td>\n",
       "      <td>In vitro ability to displace [3H]L-689,560 bin...</td>\n",
       "      <td>B</td>\n",
       "      <td>CHEMBL423099</td>\n",
       "      <td>=</td>\n",
       "      <td>CHEMBL330</td>\n",
       "      <td>Rattus norvegicus</td>\n",
       "      <td>IC50</td>\n",
       "      <td>uM</td>\n",
       "      <td>0.24</td>\n",
       "    </tr>\n",
       "    <tr>\n",
       "      <td>12</td>\n",
       "      <td>45071</td>\n",
       "      <td>CHEMBL752332</td>\n",
       "      <td>In vitro ability to displace [3H]L-689,560 bin...</td>\n",
       "      <td>B</td>\n",
       "      <td>CHEMBL164295</td>\n",
       "      <td>=</td>\n",
       "      <td>CHEMBL330</td>\n",
       "      <td>Rattus norvegicus</td>\n",
       "      <td>IC50</td>\n",
       "      <td>uM</td>\n",
       "      <td>14.7</td>\n",
       "    </tr>\n",
       "    <tr>\n",
       "      <td>13</td>\n",
       "      <td>46252</td>\n",
       "      <td>CHEMBL752332</td>\n",
       "      <td>In vitro ability to displace [3H]L-689,560 bin...</td>\n",
       "      <td>B</td>\n",
       "      <td>CHEMBL165360</td>\n",
       "      <td>=</td>\n",
       "      <td>CHEMBL330</td>\n",
       "      <td>Rattus norvegicus</td>\n",
       "      <td>IC50</td>\n",
       "      <td>uM</td>\n",
       "      <td>2</td>\n",
       "    </tr>\n",
       "    <tr>\n",
       "      <td>14</td>\n",
       "      <td>47528</td>\n",
       "      <td>CHEMBL752332</td>\n",
       "      <td>In vitro ability to displace [3H]L-689,560 bin...</td>\n",
       "      <td>B</td>\n",
       "      <td>CHEMBL165845</td>\n",
       "      <td>=</td>\n",
       "      <td>CHEMBL330</td>\n",
       "      <td>Rattus norvegicus</td>\n",
       "      <td>IC50</td>\n",
       "      <td>uM</td>\n",
       "      <td>11.6</td>\n",
       "    </tr>\n",
       "    <tr>\n",
       "      <td>15</td>\n",
       "      <td>48761</td>\n",
       "      <td>CHEMBL752332</td>\n",
       "      <td>In vitro ability to displace [3H]L-689,560 bin...</td>\n",
       "      <td>B</td>\n",
       "      <td>CHEMBL353570</td>\n",
       "      <td>=</td>\n",
       "      <td>CHEMBL330</td>\n",
       "      <td>Rattus norvegicus</td>\n",
       "      <td>IC50</td>\n",
       "      <td>uM</td>\n",
       "      <td>3.2</td>\n",
       "    </tr>\n",
       "    <tr>\n",
       "      <td>16</td>\n",
       "      <td>51429</td>\n",
       "      <td>CHEMBL752332</td>\n",
       "      <td>In vitro ability to displace [3H]L-689,560 bin...</td>\n",
       "      <td>B</td>\n",
       "      <td>CHEMBL31741</td>\n",
       "      <td>=</td>\n",
       "      <td>CHEMBL330</td>\n",
       "      <td>Rattus norvegicus</td>\n",
       "      <td>IC50</td>\n",
       "      <td>uM</td>\n",
       "      <td>0.002</td>\n",
       "    </tr>\n",
       "    <tr>\n",
       "      <td>17</td>\n",
       "      <td>52734</td>\n",
       "      <td>CHEMBL752332</td>\n",
       "      <td>In vitro ability to displace [3H]L-689,560 bin...</td>\n",
       "      <td>B</td>\n",
       "      <td>CHEMBL31661</td>\n",
       "      <td>=</td>\n",
       "      <td>CHEMBL330</td>\n",
       "      <td>Rattus norvegicus</td>\n",
       "      <td>IC50</td>\n",
       "      <td>uM</td>\n",
       "      <td>0.17</td>\n",
       "    </tr>\n",
       "    <tr>\n",
       "      <td>18</td>\n",
       "      <td>55124</td>\n",
       "      <td>CHEMBL752332</td>\n",
       "      <td>In vitro ability to displace [3H]L-689,560 bin...</td>\n",
       "      <td>B</td>\n",
       "      <td>CHEMBL166246</td>\n",
       "      <td>=</td>\n",
       "      <td>CHEMBL330</td>\n",
       "      <td>Rattus norvegicus</td>\n",
       "      <td>IC50</td>\n",
       "      <td>uM</td>\n",
       "      <td>0.58</td>\n",
       "    </tr>\n",
       "    <tr>\n",
       "      <td>19</td>\n",
       "      <td>56436</td>\n",
       "      <td>CHEMBL752332</td>\n",
       "      <td>In vitro ability to displace [3H]L-689,560 bin...</td>\n",
       "      <td>B</td>\n",
       "      <td>CHEMBL165149</td>\n",
       "      <td>=</td>\n",
       "      <td>CHEMBL330</td>\n",
       "      <td>Rattus norvegicus</td>\n",
       "      <td>IC50</td>\n",
       "      <td>uM</td>\n",
       "      <td>0.32</td>\n",
       "    </tr>\n",
       "  </tbody>\n",
       "</table>\n",
       "</div>"
      ],
      "text/plain": [
       "    activity_id assay_chembl_id  \\\n",
       "0         33023    CHEMBL752332   \n",
       "1         33023    CHEMBL752332   \n",
       "2         34260    CHEMBL752332   \n",
       "3         34263    CHEMBL752332   \n",
       "4         35502    CHEMBL752332   \n",
       "5         36723    CHEMBL752332   \n",
       "6         37854    CHEMBL752332   \n",
       "7         39088    CHEMBL752332   \n",
       "8         39091    CHEMBL752332   \n",
       "9         40244    CHEMBL752332   \n",
       "10        41430    CHEMBL752332   \n",
       "11        41431    CHEMBL752332   \n",
       "12        45071    CHEMBL752332   \n",
       "13        46252    CHEMBL752332   \n",
       "14        47528    CHEMBL752332   \n",
       "15        48761    CHEMBL752332   \n",
       "16        51429    CHEMBL752332   \n",
       "17        52734    CHEMBL752332   \n",
       "18        55124    CHEMBL752332   \n",
       "19        56436    CHEMBL752332   \n",
       "\n",
       "                                    assay_description assay_type  \\\n",
       "0   In vitro ability to displace [3H]L-689,560 bin...          B   \n",
       "1   In vitro ability to displace [3H]L-689,560 bin...          B   \n",
       "2   In vitro ability to displace [3H]L-689,560 bin...          B   \n",
       "3   In vitro ability to displace [3H]L-689,560 bin...          B   \n",
       "4   In vitro ability to displace [3H]L-689,560 bin...          B   \n",
       "5   In vitro ability to displace [3H]L-689,560 bin...          B   \n",
       "6   In vitro ability to displace [3H]L-689,560 bin...          B   \n",
       "7   In vitro ability to displace [3H]L-689,560 bin...          B   \n",
       "8   In vitro ability to displace [3H]L-689,560 bin...          B   \n",
       "9   In vitro ability to displace [3H]L-689,560 bin...          B   \n",
       "10  In vitro ability to displace [3H]L-689,560 bin...          B   \n",
       "11  In vitro ability to displace [3H]L-689,560 bin...          B   \n",
       "12  In vitro ability to displace [3H]L-689,560 bin...          B   \n",
       "13  In vitro ability to displace [3H]L-689,560 bin...          B   \n",
       "14  In vitro ability to displace [3H]L-689,560 bin...          B   \n",
       "15  In vitro ability to displace [3H]L-689,560 bin...          B   \n",
       "16  In vitro ability to displace [3H]L-689,560 bin...          B   \n",
       "17  In vitro ability to displace [3H]L-689,560 bin...          B   \n",
       "18  In vitro ability to displace [3H]L-689,560 bin...          B   \n",
       "19  In vitro ability to displace [3H]L-689,560 bin...          B   \n",
       "\n",
       "   molecule_chembl_id relation target_chembl_id    target_organism  type  \\\n",
       "0        CHEMBL352332        =        CHEMBL330  Rattus norvegicus  IC50   \n",
       "1        CHEMBL352332        =        CHEMBL330  Rattus norvegicus  IC50   \n",
       "2        CHEMBL164930        =        CHEMBL330  Rattus norvegicus  IC50   \n",
       "3        CHEMBL167201        =        CHEMBL330  Rattus norvegicus  IC50   \n",
       "4        CHEMBL164831        =        CHEMBL330  Rattus norvegicus  IC50   \n",
       "5        CHEMBL351441        =        CHEMBL330  Rattus norvegicus  IC50   \n",
       "6        CHEMBL335431        =        CHEMBL330  Rattus norvegicus  IC50   \n",
       "7        CHEMBL165378        =        CHEMBL330  Rattus norvegicus  IC50   \n",
       "8        CHEMBL351884        =        CHEMBL330  Rattus norvegicus  IC50   \n",
       "9        CHEMBL165449        =        CHEMBL330  Rattus norvegicus  IC50   \n",
       "10       CHEMBL313611        =        CHEMBL330  Rattus norvegicus  IC50   \n",
       "11       CHEMBL423099        =        CHEMBL330  Rattus norvegicus  IC50   \n",
       "12       CHEMBL164295        =        CHEMBL330  Rattus norvegicus  IC50   \n",
       "13       CHEMBL165360        =        CHEMBL330  Rattus norvegicus  IC50   \n",
       "14       CHEMBL165845        =        CHEMBL330  Rattus norvegicus  IC50   \n",
       "15       CHEMBL353570        =        CHEMBL330  Rattus norvegicus  IC50   \n",
       "16        CHEMBL31741        =        CHEMBL330  Rattus norvegicus  IC50   \n",
       "17        CHEMBL31661        =        CHEMBL330  Rattus norvegicus  IC50   \n",
       "18       CHEMBL166246        =        CHEMBL330  Rattus norvegicus  IC50   \n",
       "19       CHEMBL165149        =        CHEMBL330  Rattus norvegicus  IC50   \n",
       "\n",
       "   units  value  \n",
       "0     uM    0.5  \n",
       "1     uM    0.5  \n",
       "2     uM   0.75  \n",
       "3     uM    3.2  \n",
       "4     uM    1.1  \n",
       "5     uM    1.7  \n",
       "6     uM    6.7  \n",
       "7     uM   0.78  \n",
       "8     uM   0.27  \n",
       "9     uM   0.19  \n",
       "10    uM     11  \n",
       "11    uM   0.24  \n",
       "12    uM   14.7  \n",
       "13    uM      2  \n",
       "14    uM   11.6  \n",
       "15    uM    3.2  \n",
       "16    uM  0.002  \n",
       "17    uM   0.17  \n",
       "18    uM   0.58  \n",
       "19    uM   0.32  "
      ]
     },
     "execution_count": 9,
     "metadata": {},
     "output_type": "execute_result"
    }
   ],
   "source": [
    "bioact_df = pd.DataFrame.from_records(bioact)\n",
    "bioact_df.head(20)"
   ]
  },
  {
   "cell_type": "code",
   "execution_count": 10,
   "metadata": {},
   "outputs": [
    {
     "data": {
      "text/plain": [
       "(360, 11)"
      ]
     },
     "execution_count": 10,
     "metadata": {},
     "output_type": "execute_result"
    }
   ],
   "source": [
    "bioact_df.shape"
   ]
  },
  {
   "cell_type": "markdown",
   "metadata": {},
   "source": [
    "Delete entries with missing values."
   ]
  },
  {
   "cell_type": "code",
   "execution_count": 11,
   "metadata": {},
   "outputs": [
    {
     "data": {
      "text/plain": [
       "(351, 11)"
      ]
     },
     "execution_count": 11,
     "metadata": {},
     "output_type": "execute_result"
    }
   ],
   "source": [
    "bioact_df = bioact_df.dropna(axis=0, how = 'any')\n",
    "bioact_df.shape"
   ]
  },
  {
   "cell_type": "markdown",
   "metadata": {},
   "source": [
    "Delete duplicates:\n",
    "Sometimes the same molecule (`molecule_chembl_id`) has been tested more than once, in this case, we only keep the first one."
   ]
  },
  {
   "cell_type": "code",
   "execution_count": 12,
   "metadata": {},
   "outputs": [
    {
     "data": {
      "text/plain": [
       "(312, 11)"
      ]
     },
     "execution_count": 12,
     "metadata": {},
     "output_type": "execute_result"
    }
   ],
   "source": [
    "bioact_df = bioact_df.drop_duplicates('molecule_chembl_id', keep = 'first')\n",
    "bioact_df.shape"
   ]
  },
  {
   "cell_type": "markdown",
   "metadata": {},
   "source": [
    "We would like to only keep bioactivity data measured in molar units. The following print statements will help us to see what units are contained and to control what is kept after dropping some rows."
   ]
  },
  {
   "cell_type": "code",
   "execution_count": 13,
   "metadata": {},
   "outputs": [
    {
     "name": "stdout",
     "output_type": "stream",
     "text": [
      "['uM' 'nM']\n",
      "['uM' 'nM']\n"
     ]
    },
    {
     "data": {
      "text/plain": [
       "(312, 11)"
      ]
     },
     "execution_count": 13,
     "metadata": {},
     "output_type": "execute_result"
    }
   ],
   "source": [
    "print(bioact_df.units.unique())\n",
    "bioact_df = bioact_df.drop(bioact_df.index[~bioact_df.units.str.contains('M')])\n",
    "print(bioact_df.units.unique())\n",
    "bioact_df.shape"
   ]
  },
  {
   "cell_type": "markdown",
   "metadata": {},
   "source": [
    "Since we deleted some rows, but we want to iterate over the index later, we reset index to be continuous."
   ]
  },
  {
   "cell_type": "code",
   "execution_count": 14,
   "metadata": {},
   "outputs": [
    {
     "data": {
      "text/html": [
       "<div>\n",
       "<style scoped>\n",
       "    .dataframe tbody tr th:only-of-type {\n",
       "        vertical-align: middle;\n",
       "    }\n",
       "\n",
       "    .dataframe tbody tr th {\n",
       "        vertical-align: top;\n",
       "    }\n",
       "\n",
       "    .dataframe thead th {\n",
       "        text-align: right;\n",
       "    }\n",
       "</style>\n",
       "<table border=\"1\" class=\"dataframe\">\n",
       "  <thead>\n",
       "    <tr style=\"text-align: right;\">\n",
       "      <th></th>\n",
       "      <th>activity_id</th>\n",
       "      <th>assay_chembl_id</th>\n",
       "      <th>assay_description</th>\n",
       "      <th>assay_type</th>\n",
       "      <th>molecule_chembl_id</th>\n",
       "      <th>relation</th>\n",
       "      <th>target_chembl_id</th>\n",
       "      <th>target_organism</th>\n",
       "      <th>type</th>\n",
       "      <th>units</th>\n",
       "      <th>value</th>\n",
       "    </tr>\n",
       "  </thead>\n",
       "  <tbody>\n",
       "    <tr>\n",
       "      <td>0</td>\n",
       "      <td>33023</td>\n",
       "      <td>CHEMBL752332</td>\n",
       "      <td>In vitro ability to displace [3H]L-689,560 bin...</td>\n",
       "      <td>B</td>\n",
       "      <td>CHEMBL352332</td>\n",
       "      <td>=</td>\n",
       "      <td>CHEMBL330</td>\n",
       "      <td>Rattus norvegicus</td>\n",
       "      <td>IC50</td>\n",
       "      <td>uM</td>\n",
       "      <td>0.5</td>\n",
       "    </tr>\n",
       "    <tr>\n",
       "      <td>1</td>\n",
       "      <td>34260</td>\n",
       "      <td>CHEMBL752332</td>\n",
       "      <td>In vitro ability to displace [3H]L-689,560 bin...</td>\n",
       "      <td>B</td>\n",
       "      <td>CHEMBL164930</td>\n",
       "      <td>=</td>\n",
       "      <td>CHEMBL330</td>\n",
       "      <td>Rattus norvegicus</td>\n",
       "      <td>IC50</td>\n",
       "      <td>uM</td>\n",
       "      <td>0.75</td>\n",
       "    </tr>\n",
       "    <tr>\n",
       "      <td>2</td>\n",
       "      <td>34263</td>\n",
       "      <td>CHEMBL752332</td>\n",
       "      <td>In vitro ability to displace [3H]L-689,560 bin...</td>\n",
       "      <td>B</td>\n",
       "      <td>CHEMBL167201</td>\n",
       "      <td>=</td>\n",
       "      <td>CHEMBL330</td>\n",
       "      <td>Rattus norvegicus</td>\n",
       "      <td>IC50</td>\n",
       "      <td>uM</td>\n",
       "      <td>3.2</td>\n",
       "    </tr>\n",
       "    <tr>\n",
       "      <td>3</td>\n",
       "      <td>35502</td>\n",
       "      <td>CHEMBL752332</td>\n",
       "      <td>In vitro ability to displace [3H]L-689,560 bin...</td>\n",
       "      <td>B</td>\n",
       "      <td>CHEMBL164831</td>\n",
       "      <td>=</td>\n",
       "      <td>CHEMBL330</td>\n",
       "      <td>Rattus norvegicus</td>\n",
       "      <td>IC50</td>\n",
       "      <td>uM</td>\n",
       "      <td>1.1</td>\n",
       "    </tr>\n",
       "    <tr>\n",
       "      <td>4</td>\n",
       "      <td>36723</td>\n",
       "      <td>CHEMBL752332</td>\n",
       "      <td>In vitro ability to displace [3H]L-689,560 bin...</td>\n",
       "      <td>B</td>\n",
       "      <td>CHEMBL351441</td>\n",
       "      <td>=</td>\n",
       "      <td>CHEMBL330</td>\n",
       "      <td>Rattus norvegicus</td>\n",
       "      <td>IC50</td>\n",
       "      <td>uM</td>\n",
       "      <td>1.7</td>\n",
       "    </tr>\n",
       "  </tbody>\n",
       "</table>\n",
       "</div>"
      ],
      "text/plain": [
       "   activity_id assay_chembl_id  \\\n",
       "0        33023    CHEMBL752332   \n",
       "1        34260    CHEMBL752332   \n",
       "2        34263    CHEMBL752332   \n",
       "3        35502    CHEMBL752332   \n",
       "4        36723    CHEMBL752332   \n",
       "\n",
       "                                   assay_description assay_type  \\\n",
       "0  In vitro ability to displace [3H]L-689,560 bin...          B   \n",
       "1  In vitro ability to displace [3H]L-689,560 bin...          B   \n",
       "2  In vitro ability to displace [3H]L-689,560 bin...          B   \n",
       "3  In vitro ability to displace [3H]L-689,560 bin...          B   \n",
       "4  In vitro ability to displace [3H]L-689,560 bin...          B   \n",
       "\n",
       "  molecule_chembl_id relation target_chembl_id    target_organism  type units  \\\n",
       "0       CHEMBL352332        =        CHEMBL330  Rattus norvegicus  IC50    uM   \n",
       "1       CHEMBL164930        =        CHEMBL330  Rattus norvegicus  IC50    uM   \n",
       "2       CHEMBL167201        =        CHEMBL330  Rattus norvegicus  IC50    uM   \n",
       "3       CHEMBL164831        =        CHEMBL330  Rattus norvegicus  IC50    uM   \n",
       "4       CHEMBL351441        =        CHEMBL330  Rattus norvegicus  IC50    uM   \n",
       "\n",
       "  value  \n",
       "0   0.5  \n",
       "1  0.75  \n",
       "2   3.2  \n",
       "3   1.1  \n",
       "4   1.7  "
      ]
     },
     "execution_count": 14,
     "metadata": {},
     "output_type": "execute_result"
    }
   ],
   "source": [
    "bioact_df = bioact_df.reset_index(drop=True) \n",
    "bioact_df.head()"
   ]
  },
  {
   "cell_type": "markdown",
   "metadata": {},
   "source": [
    "To allow further comparison of the IC50 values, we convert all units to nM. First, we write a helper function, which can be applied to the whole dataframe in the next step."
   ]
  },
  {
   "cell_type": "code",
   "execution_count": 15,
   "metadata": {},
   "outputs": [],
   "source": [
    "def convert_to_NM(unit, bioactivity):\n",
    "#     c=0\n",
    "# for i, unit in enumerate(bioact_df.units):\n",
    "    if unit != \"nM\":        \n",
    "        if unit == \"pM\":\n",
    "            value = float(bioactivity)/1000\n",
    "        elif unit == \"10'-11M\":\n",
    "            value = float(bioactivity)/100\n",
    "        elif unit == \"10'-10M\":\n",
    "            value = float(bioactivity)/10\n",
    "        elif unit == \"10'-8M\":\n",
    "            value = float(bioactivity)*10\n",
    "        elif unit == \"10'-1microM\" or unit == \"10'-7M\":\n",
    "            value = float(bioactivity)*100\n",
    "        elif unit == \"uM\" or unit == \"/uM\" or unit == \"10'-6M\":\n",
    "            value = float(bioactivity)*1000\n",
    "        elif unit == \"10'1 uM\":\n",
    "            value = float(bioactivity)*10000\n",
    "        elif unit == \"10'2 uM\":\n",
    "            value = float(bioactivity)*100000\n",
    "        elif unit == \"mM\":\n",
    "            value = float(bioactivity)*1000000\n",
    "        elif unit == \"M\":\n",
    "            value = float(bioactivity)*1000000000\n",
    "        else:\n",
    "            print ('unit not recognized...', unit)\n",
    "        return value\n",
    "    else: return bioactivity"
   ]
  },
  {
   "cell_type": "code",
   "execution_count": 16,
   "metadata": {},
   "outputs": [
    {
     "data": {
      "text/html": [
       "<div>\n",
       "<style scoped>\n",
       "    .dataframe tbody tr th:only-of-type {\n",
       "        vertical-align: middle;\n",
       "    }\n",
       "\n",
       "    .dataframe tbody tr th {\n",
       "        vertical-align: top;\n",
       "    }\n",
       "\n",
       "    .dataframe thead th {\n",
       "        text-align: right;\n",
       "    }\n",
       "</style>\n",
       "<table border=\"1\" class=\"dataframe\">\n",
       "  <thead>\n",
       "    <tr style=\"text-align: right;\">\n",
       "      <th></th>\n",
       "      <th>activity_id</th>\n",
       "      <th>assay_chembl_id</th>\n",
       "      <th>assay_description</th>\n",
       "      <th>assay_type</th>\n",
       "      <th>molecule_chembl_id</th>\n",
       "      <th>relation</th>\n",
       "      <th>target_chembl_id</th>\n",
       "      <th>target_organism</th>\n",
       "      <th>type</th>\n",
       "      <th>units</th>\n",
       "      <th>value</th>\n",
       "    </tr>\n",
       "  </thead>\n",
       "  <tbody>\n",
       "    <tr>\n",
       "      <td>0</td>\n",
       "      <td>33023</td>\n",
       "      <td>CHEMBL752332</td>\n",
       "      <td>In vitro ability to displace [3H]L-689,560 bin...</td>\n",
       "      <td>B</td>\n",
       "      <td>CHEMBL352332</td>\n",
       "      <td>=</td>\n",
       "      <td>CHEMBL330</td>\n",
       "      <td>Rattus norvegicus</td>\n",
       "      <td>IC50</td>\n",
       "      <td>nM</td>\n",
       "      <td>500</td>\n",
       "    </tr>\n",
       "    <tr>\n",
       "      <td>1</td>\n",
       "      <td>34260</td>\n",
       "      <td>CHEMBL752332</td>\n",
       "      <td>In vitro ability to displace [3H]L-689,560 bin...</td>\n",
       "      <td>B</td>\n",
       "      <td>CHEMBL164930</td>\n",
       "      <td>=</td>\n",
       "      <td>CHEMBL330</td>\n",
       "      <td>Rattus norvegicus</td>\n",
       "      <td>IC50</td>\n",
       "      <td>nM</td>\n",
       "      <td>750</td>\n",
       "    </tr>\n",
       "    <tr>\n",
       "      <td>2</td>\n",
       "      <td>34263</td>\n",
       "      <td>CHEMBL752332</td>\n",
       "      <td>In vitro ability to displace [3H]L-689,560 bin...</td>\n",
       "      <td>B</td>\n",
       "      <td>CHEMBL167201</td>\n",
       "      <td>=</td>\n",
       "      <td>CHEMBL330</td>\n",
       "      <td>Rattus norvegicus</td>\n",
       "      <td>IC50</td>\n",
       "      <td>nM</td>\n",
       "      <td>3200</td>\n",
       "    </tr>\n",
       "    <tr>\n",
       "      <td>3</td>\n",
       "      <td>35502</td>\n",
       "      <td>CHEMBL752332</td>\n",
       "      <td>In vitro ability to displace [3H]L-689,560 bin...</td>\n",
       "      <td>B</td>\n",
       "      <td>CHEMBL164831</td>\n",
       "      <td>=</td>\n",
       "      <td>CHEMBL330</td>\n",
       "      <td>Rattus norvegicus</td>\n",
       "      <td>IC50</td>\n",
       "      <td>nM</td>\n",
       "      <td>1100</td>\n",
       "    </tr>\n",
       "    <tr>\n",
       "      <td>4</td>\n",
       "      <td>36723</td>\n",
       "      <td>CHEMBL752332</td>\n",
       "      <td>In vitro ability to displace [3H]L-689,560 bin...</td>\n",
       "      <td>B</td>\n",
       "      <td>CHEMBL351441</td>\n",
       "      <td>=</td>\n",
       "      <td>CHEMBL330</td>\n",
       "      <td>Rattus norvegicus</td>\n",
       "      <td>IC50</td>\n",
       "      <td>nM</td>\n",
       "      <td>1700</td>\n",
       "    </tr>\n",
       "  </tbody>\n",
       "</table>\n",
       "</div>"
      ],
      "text/plain": [
       "   activity_id assay_chembl_id  \\\n",
       "0        33023    CHEMBL752332   \n",
       "1        34260    CHEMBL752332   \n",
       "2        34263    CHEMBL752332   \n",
       "3        35502    CHEMBL752332   \n",
       "4        36723    CHEMBL752332   \n",
       "\n",
       "                                   assay_description assay_type  \\\n",
       "0  In vitro ability to displace [3H]L-689,560 bin...          B   \n",
       "1  In vitro ability to displace [3H]L-689,560 bin...          B   \n",
       "2  In vitro ability to displace [3H]L-689,560 bin...          B   \n",
       "3  In vitro ability to displace [3H]L-689,560 bin...          B   \n",
       "4  In vitro ability to displace [3H]L-689,560 bin...          B   \n",
       "\n",
       "  molecule_chembl_id relation target_chembl_id    target_organism  type units  \\\n",
       "0       CHEMBL352332        =        CHEMBL330  Rattus norvegicus  IC50    nM   \n",
       "1       CHEMBL164930        =        CHEMBL330  Rattus norvegicus  IC50    nM   \n",
       "2       CHEMBL167201        =        CHEMBL330  Rattus norvegicus  IC50    nM   \n",
       "3       CHEMBL164831        =        CHEMBL330  Rattus norvegicus  IC50    nM   \n",
       "4       CHEMBL351441        =        CHEMBL330  Rattus norvegicus  IC50    nM   \n",
       "\n",
       "  value  \n",
       "0   500  \n",
       "1   750  \n",
       "2  3200  \n",
       "3  1100  \n",
       "4  1700  "
      ]
     },
     "execution_count": 16,
     "metadata": {},
     "output_type": "execute_result"
    }
   ],
   "source": [
    "bioactivity_nM = []\n",
    "for i, row in bioact_df.iterrows():\n",
    "    bioact_nM = convert_to_NM(row['units'], row['value'])\n",
    "    bioactivity_nM.append(bioact_nM)\n",
    "bioact_df['value'] = bioactivity_nM\n",
    "bioact_df['units'] = 'nM'\n",
    "bioact_df.head()"
   ]
  },
  {
   "cell_type": "markdown",
   "metadata": {},
   "source": [
    "### Compound data\n",
    "\n",
    "We have a data frame containing all molecules tested (with the respective measure) against NMDZ1. Next step is to get the molecules that are stored behind the respective ChEMBL IDs. "
   ]
  },
  {
   "cell_type": "markdown",
   "metadata": {},
   "source": [
    "#### Get list of compounds\n",
    "\n",
    "Let's have a look at the compounds from ChEMBL we have defined bioactivity data for. First, we retrieve ChEMBL ID and structures for the compounds with desired bioactivity data."
   ]
  },
  {
   "cell_type": "code",
   "execution_count": 17,
   "metadata": {},
   "outputs": [],
   "source": [
    "cmpd_id_list = list(bioact_df['molecule_chembl_id'])\n",
    "compound_list = compounds.filter(molecule_chembl_id__in = cmpd_id_list) \\\n",
    "                         .only('molecule_chembl_id','molecule_structures')"
   ]
  },
  {
   "cell_type": "markdown",
   "metadata": {},
   "source": [
    "Then, we convert the list to a pandas dataframe and delete duplicates."
   ]
  },
  {
   "cell_type": "code",
   "execution_count": 18,
   "metadata": {},
   "outputs": [
    {
     "name": "stdout",
     "output_type": "stream",
     "text": [
      "(312, 2)\n",
      "(312, 11)\n"
     ]
    },
    {
     "data": {
      "text/html": [
       "<div>\n",
       "<style scoped>\n",
       "    .dataframe tbody tr th:only-of-type {\n",
       "        vertical-align: middle;\n",
       "    }\n",
       "\n",
       "    .dataframe tbody tr th {\n",
       "        vertical-align: top;\n",
       "    }\n",
       "\n",
       "    .dataframe thead th {\n",
       "        text-align: right;\n",
       "    }\n",
       "</style>\n",
       "<table border=\"1\" class=\"dataframe\">\n",
       "  <thead>\n",
       "    <tr style=\"text-align: right;\">\n",
       "      <th></th>\n",
       "      <th>molecule_chembl_id</th>\n",
       "      <th>molecule_structures</th>\n",
       "    </tr>\n",
       "  </thead>\n",
       "  <tbody>\n",
       "    <tr>\n",
       "      <td>0</td>\n",
       "      <td>CHEMBL9790</td>\n",
       "      <td>{'canonical_smiles': '[O-][N+](=O)C1=CC2=NC(=O...</td>\n",
       "    </tr>\n",
       "    <tr>\n",
       "      <td>2</td>\n",
       "      <td>CHEMBL279998</td>\n",
       "      <td>{'canonical_smiles': 'OC(=O)C1CCNCC1', 'standa...</td>\n",
       "    </tr>\n",
       "    <tr>\n",
       "      <td>3</td>\n",
       "      <td>CHEMBL279597</td>\n",
       "      <td>{'canonical_smiles': 'C[C@H](N)C(=O)O', 'stand...</td>\n",
       "    </tr>\n",
       "    <tr>\n",
       "      <td>4</td>\n",
       "      <td>CHEMBL282672</td>\n",
       "      <td>{'canonical_smiles': 'Oc1nc2ccccc2nc1O', 'stan...</td>\n",
       "    </tr>\n",
       "    <tr>\n",
       "      <td>5</td>\n",
       "      <td>CHEMBL22895</td>\n",
       "      <td>{'canonical_smiles': 'OC(=O)c1cc(O)c2c(I)cc(Cl...</td>\n",
       "    </tr>\n",
       "  </tbody>\n",
       "</table>\n",
       "</div>"
      ],
      "text/plain": [
       "  molecule_chembl_id                                molecule_structures\n",
       "0         CHEMBL9790  {'canonical_smiles': '[O-][N+](=O)C1=CC2=NC(=O...\n",
       "2       CHEMBL279998  {'canonical_smiles': 'OC(=O)C1CCNCC1', 'standa...\n",
       "3       CHEMBL279597  {'canonical_smiles': 'C[C@H](N)C(=O)O', 'stand...\n",
       "4       CHEMBL282672  {'canonical_smiles': 'Oc1nc2ccccc2nc1O', 'stan...\n",
       "5        CHEMBL22895  {'canonical_smiles': 'OC(=O)c1cc(O)c2c(I)cc(Cl..."
      ]
     },
     "execution_count": 18,
     "metadata": {},
     "output_type": "execute_result"
    }
   ],
   "source": [
    "compound_df = pd.DataFrame.from_records(compound_list)\n",
    "compound_df = compound_df.drop_duplicates('molecule_chembl_id', keep = 'first')\n",
    "print(compound_df.shape)\n",
    "print(bioact_df.shape)\n",
    "compound_df.head()"
   ]
  },
  {
   "cell_type": "markdown",
   "metadata": {},
   "source": [
    "So far, we have multiple different molecular structure representations. We only want to keep the canonical SMILES."
   ]
  },
  {
   "cell_type": "code",
   "execution_count": 19,
   "metadata": {},
   "outputs": [
    {
     "name": "stdout",
     "output_type": "stream",
     "text": [
      "(312, 2)\n"
     ]
    }
   ],
   "source": [
    "for i, cmpd in compound_df.iterrows():\n",
    "    if compound_df.loc[i]['molecule_structures'] != None:\n",
    "        compound_df.loc[i]['molecule_structures'] = cmpd['molecule_structures']['canonical_smiles']\n",
    "\n",
    "print (compound_df.shape)"
   ]
  },
  {
   "cell_type": "markdown",
   "metadata": {},
   "source": [
    "#### Prepare output data"
   ]
  },
  {
   "cell_type": "markdown",
   "metadata": {},
   "source": [
    "Merging values of interest in one dataframe on ChEMBL-IDs:\n",
    "* ChEMBL-IDs\n",
    "* SMILES\n",
    "* units\n",
    "* IC50"
   ]
  },
  {
   "cell_type": "code",
   "execution_count": 20,
   "metadata": {},
   "outputs": [
    {
     "name": "stdout",
     "output_type": "stream",
     "text": [
      "(312, 4)\n"
     ]
    },
    {
     "data": {
      "text/html": [
       "<div>\n",
       "<style scoped>\n",
       "    .dataframe tbody tr th:only-of-type {\n",
       "        vertical-align: middle;\n",
       "    }\n",
       "\n",
       "    .dataframe tbody tr th {\n",
       "        vertical-align: top;\n",
       "    }\n",
       "\n",
       "    .dataframe thead th {\n",
       "        text-align: right;\n",
       "    }\n",
       "</style>\n",
       "<table border=\"1\" class=\"dataframe\">\n",
       "  <thead>\n",
       "    <tr style=\"text-align: right;\">\n",
       "      <th></th>\n",
       "      <th>molecule_chembl_id</th>\n",
       "      <th>units</th>\n",
       "      <th>value</th>\n",
       "      <th>molecule_structures</th>\n",
       "    </tr>\n",
       "  </thead>\n",
       "  <tbody>\n",
       "    <tr>\n",
       "      <td>0</td>\n",
       "      <td>CHEMBL352332</td>\n",
       "      <td>nM</td>\n",
       "      <td>500</td>\n",
       "      <td>COC(=O)CCc1c(c(O)nc2cc(Cl)ccc12)c3ccccc3</td>\n",
       "    </tr>\n",
       "    <tr>\n",
       "      <td>1</td>\n",
       "      <td>CHEMBL164930</td>\n",
       "      <td>nM</td>\n",
       "      <td>750</td>\n",
       "      <td>Oc1nc2cc(Cl)ccc2c(CCC#N)c1c3ccccc3</td>\n",
       "    </tr>\n",
       "    <tr>\n",
       "      <td>2</td>\n",
       "      <td>CHEMBL167201</td>\n",
       "      <td>nM</td>\n",
       "      <td>3200</td>\n",
       "      <td>CN(C)CCNc1c(c(O)nc2cc(Cl)ccc12)c3ccccc3</td>\n",
       "    </tr>\n",
       "    <tr>\n",
       "      <td>3</td>\n",
       "      <td>CHEMBL164831</td>\n",
       "      <td>nM</td>\n",
       "      <td>1100</td>\n",
       "      <td>OC(=O)CC(=O)Nc1c(c(O)nc2cc(Cl)ccc12)c3ccccc3</td>\n",
       "    </tr>\n",
       "    <tr>\n",
       "      <td>4</td>\n",
       "      <td>CHEMBL351441</td>\n",
       "      <td>nM</td>\n",
       "      <td>1700</td>\n",
       "      <td>CC(=O)COc1c(c(O)nc2cc(Cl)ccc12)c3ccccc3</td>\n",
       "    </tr>\n",
       "  </tbody>\n",
       "</table>\n",
       "</div>"
      ],
      "text/plain": [
       "  molecule_chembl_id units value                           molecule_structures\n",
       "0       CHEMBL352332    nM   500      COC(=O)CCc1c(c(O)nc2cc(Cl)ccc12)c3ccccc3\n",
       "1       CHEMBL164930    nM   750            Oc1nc2cc(Cl)ccc2c(CCC#N)c1c3ccccc3\n",
       "2       CHEMBL167201    nM  3200       CN(C)CCNc1c(c(O)nc2cc(Cl)ccc12)c3ccccc3\n",
       "3       CHEMBL164831    nM  1100  OC(=O)CC(=O)Nc1c(c(O)nc2cc(Cl)ccc12)c3ccccc3\n",
       "4       CHEMBL351441    nM  1700       CC(=O)COc1c(c(O)nc2cc(Cl)ccc12)c3ccccc3"
      ]
     },
     "execution_count": 20,
     "metadata": {},
     "output_type": "execute_result"
    }
   ],
   "source": [
    "output_df = pd.merge(bioact_df[['molecule_chembl_id','units','value']], compound_df, on='molecule_chembl_id')\n",
    "print(output_df.shape)\n",
    "output_df.head()"
   ]
  },
  {
   "cell_type": "markdown",
   "metadata": {},
   "source": [
    "For distinct column names, IC50 and SMILES columns will need to rename."
   ]
  },
  {
   "cell_type": "code",
   "execution_count": 21,
   "metadata": {},
   "outputs": [
    {
     "data": {
      "text/plain": [
       "(312, 4)"
      ]
     },
     "execution_count": 21,
     "metadata": {},
     "output_type": "execute_result"
    }
   ],
   "source": [
    "output_df = output_df.rename(columns= {'molecule_structures':'smiles', 'value':'IC50'})\n",
    "output_df.shape"
   ]
  },
  {
   "cell_type": "markdown",
   "metadata": {},
   "source": [
    "SMILES representation of a compound is neccesary to get 3D structure of the compound in order to start computations for further analysis using MaPhi, in that way compounds without SMILES will be deleted."
   ]
  },
  {
   "cell_type": "code",
   "execution_count": 22,
   "metadata": {},
   "outputs": [
    {
     "name": "stdout",
     "output_type": "stream",
     "text": [
      "(312, 4)\n"
     ]
    },
    {
     "data": {
      "text/html": [
       "<div>\n",
       "<style scoped>\n",
       "    .dataframe tbody tr th:only-of-type {\n",
       "        vertical-align: middle;\n",
       "    }\n",
       "\n",
       "    .dataframe tbody tr th {\n",
       "        vertical-align: top;\n",
       "    }\n",
       "\n",
       "    .dataframe thead th {\n",
       "        text-align: right;\n",
       "    }\n",
       "</style>\n",
       "<table border=\"1\" class=\"dataframe\">\n",
       "  <thead>\n",
       "    <tr style=\"text-align: right;\">\n",
       "      <th></th>\n",
       "      <th>molecule_chembl_id</th>\n",
       "      <th>units</th>\n",
       "      <th>IC50</th>\n",
       "      <th>smiles</th>\n",
       "    </tr>\n",
       "  </thead>\n",
       "  <tbody>\n",
       "    <tr>\n",
       "      <td>0</td>\n",
       "      <td>CHEMBL352332</td>\n",
       "      <td>nM</td>\n",
       "      <td>500</td>\n",
       "      <td>COC(=O)CCc1c(c(O)nc2cc(Cl)ccc12)c3ccccc3</td>\n",
       "    </tr>\n",
       "    <tr>\n",
       "      <td>1</td>\n",
       "      <td>CHEMBL164930</td>\n",
       "      <td>nM</td>\n",
       "      <td>750</td>\n",
       "      <td>Oc1nc2cc(Cl)ccc2c(CCC#N)c1c3ccccc3</td>\n",
       "    </tr>\n",
       "    <tr>\n",
       "      <td>2</td>\n",
       "      <td>CHEMBL167201</td>\n",
       "      <td>nM</td>\n",
       "      <td>3200</td>\n",
       "      <td>CN(C)CCNc1c(c(O)nc2cc(Cl)ccc12)c3ccccc3</td>\n",
       "    </tr>\n",
       "    <tr>\n",
       "      <td>3</td>\n",
       "      <td>CHEMBL164831</td>\n",
       "      <td>nM</td>\n",
       "      <td>1100</td>\n",
       "      <td>OC(=O)CC(=O)Nc1c(c(O)nc2cc(Cl)ccc12)c3ccccc3</td>\n",
       "    </tr>\n",
       "    <tr>\n",
       "      <td>4</td>\n",
       "      <td>CHEMBL351441</td>\n",
       "      <td>nM</td>\n",
       "      <td>1700</td>\n",
       "      <td>CC(=O)COc1c(c(O)nc2cc(Cl)ccc12)c3ccccc3</td>\n",
       "    </tr>\n",
       "  </tbody>\n",
       "</table>\n",
       "</div>"
      ],
      "text/plain": [
       "  molecule_chembl_id units  IC50                                        smiles\n",
       "0       CHEMBL352332    nM   500      COC(=O)CCc1c(c(O)nc2cc(Cl)ccc12)c3ccccc3\n",
       "1       CHEMBL164930    nM   750            Oc1nc2cc(Cl)ccc2c(CCC#N)c1c3ccccc3\n",
       "2       CHEMBL167201    nM  3200       CN(C)CCNc1c(c(O)nc2cc(Cl)ccc12)c3ccccc3\n",
       "3       CHEMBL164831    nM  1100  OC(=O)CC(=O)Nc1c(c(O)nc2cc(Cl)ccc12)c3ccccc3\n",
       "4       CHEMBL351441    nM  1700       CC(=O)COc1c(c(O)nc2cc(Cl)ccc12)c3ccccc3"
      ]
     },
     "execution_count": 22,
     "metadata": {},
     "output_type": "execute_result"
    }
   ],
   "source": [
    "output_df = output_df[~output_df['smiles'].isnull()]\n",
    "print(output_df.shape)\n",
    "output_df.head()"
   ]
  },
  {
   "cell_type": "markdown",
   "metadata": {},
   "source": [
    "In the next cell, you see that the low IC50 values are difficult to read. Therefore, we prefer to convert the IC50 values to pIC50."
   ]
  },
  {
   "cell_type": "code",
   "execution_count": 23,
   "metadata": {},
   "outputs": [
    {
     "name": "stdout",
     "output_type": "stream",
     "text": [
      "312\n",
      "0      500.0\n",
      "1      750.0\n",
      "2     3200.0\n",
      "3     1100.0\n",
      "4     1700.0\n",
      "5     6700.0\n",
      "6      780.0\n",
      "7      270.0\n",
      "8      190.0\n",
      "9    11000.0\n",
      "Name: IC50, dtype: float64\n"
     ]
    }
   ],
   "source": [
    "output_df = output_df.reset_index(drop=True)\n",
    "ic50 = output_df.IC50.astype(float) \n",
    "print(len(ic50))\n",
    "print(ic50.head(10))"
   ]
  },
  {
   "cell_type": "code",
   "execution_count": 24,
   "metadata": {},
   "outputs": [
    {
     "data": {
      "text/html": [
       "<div>\n",
       "<style scoped>\n",
       "    .dataframe tbody tr th:only-of-type {\n",
       "        vertical-align: middle;\n",
       "    }\n",
       "\n",
       "    .dataframe tbody tr th {\n",
       "        vertical-align: top;\n",
       "    }\n",
       "\n",
       "    .dataframe thead th {\n",
       "        text-align: right;\n",
       "    }\n",
       "</style>\n",
       "<table border=\"1\" class=\"dataframe\">\n",
       "  <thead>\n",
       "    <tr style=\"text-align: right;\">\n",
       "      <th></th>\n",
       "      <th>molecule_chembl_id</th>\n",
       "      <th>units</th>\n",
       "      <th>IC50</th>\n",
       "      <th>smiles</th>\n",
       "      <th>pIC50</th>\n",
       "    </tr>\n",
       "  </thead>\n",
       "  <tbody>\n",
       "    <tr>\n",
       "      <td>0</td>\n",
       "      <td>CHEMBL352332</td>\n",
       "      <td>nM</td>\n",
       "      <td>500</td>\n",
       "      <td>COC(=O)CCc1c(c(O)nc2cc(Cl)ccc12)c3ccccc3</td>\n",
       "      <td>6.301030</td>\n",
       "    </tr>\n",
       "    <tr>\n",
       "      <td>1</td>\n",
       "      <td>CHEMBL164930</td>\n",
       "      <td>nM</td>\n",
       "      <td>750</td>\n",
       "      <td>Oc1nc2cc(Cl)ccc2c(CCC#N)c1c3ccccc3</td>\n",
       "      <td>6.124939</td>\n",
       "    </tr>\n",
       "    <tr>\n",
       "      <td>2</td>\n",
       "      <td>CHEMBL167201</td>\n",
       "      <td>nM</td>\n",
       "      <td>3200</td>\n",
       "      <td>CN(C)CCNc1c(c(O)nc2cc(Cl)ccc12)c3ccccc3</td>\n",
       "      <td>5.494850</td>\n",
       "    </tr>\n",
       "    <tr>\n",
       "      <td>3</td>\n",
       "      <td>CHEMBL164831</td>\n",
       "      <td>nM</td>\n",
       "      <td>1100</td>\n",
       "      <td>OC(=O)CC(=O)Nc1c(c(O)nc2cc(Cl)ccc12)c3ccccc3</td>\n",
       "      <td>5.958607</td>\n",
       "    </tr>\n",
       "    <tr>\n",
       "      <td>4</td>\n",
       "      <td>CHEMBL351441</td>\n",
       "      <td>nM</td>\n",
       "      <td>1700</td>\n",
       "      <td>CC(=O)COc1c(c(O)nc2cc(Cl)ccc12)c3ccccc3</td>\n",
       "      <td>5.769551</td>\n",
       "    </tr>\n",
       "  </tbody>\n",
       "</table>\n",
       "</div>"
      ],
      "text/plain": [
       "  molecule_chembl_id units  IC50  \\\n",
       "0       CHEMBL352332    nM   500   \n",
       "1       CHEMBL164930    nM   750   \n",
       "2       CHEMBL167201    nM  3200   \n",
       "3       CHEMBL164831    nM  1100   \n",
       "4       CHEMBL351441    nM  1700   \n",
       "\n",
       "                                         smiles     pIC50  \n",
       "0      COC(=O)CCc1c(c(O)nc2cc(Cl)ccc12)c3ccccc3  6.301030  \n",
       "1            Oc1nc2cc(Cl)ccc2c(CCC#N)c1c3ccccc3  6.124939  \n",
       "2       CN(C)CCNc1c(c(O)nc2cc(Cl)ccc12)c3ccccc3  5.494850  \n",
       "3  OC(=O)CC(=O)Nc1c(c(O)nc2cc(Cl)ccc12)c3ccccc3  5.958607  \n",
       "4       CC(=O)COc1c(c(O)nc2cc(Cl)ccc12)c3ccccc3  5.769551  "
      ]
     },
     "execution_count": 24,
     "metadata": {},
     "output_type": "execute_result"
    }
   ],
   "source": [
    "# Convert IC50 to pIC50 and add pIC50 column:\n",
    "pIC50 = pd.Series() \n",
    "i = 0\n",
    "while i < len(output_df.IC50):\n",
    "    value = 9 - math.log10(ic50[i]) # pIC50=-log10(IC50 mol/l) --> for nM: -log10(IC50*10**-9)= 9-log10(IC50)\n",
    "    if value < 0:\n",
    "        print(\"Negative pIC50 value at index\"+str(i))\n",
    "    pIC50.at[i] = value\n",
    "    i += 1\n",
    "    \n",
    "output_df['pIC50'] = pIC50\n",
    "output_df.head()"
   ]
  },
  {
   "cell_type": "markdown",
   "metadata": {},
   "source": [
    "### Collected bioactivity data for NMDZ1"
   ]
  },
  {
   "cell_type": "markdown",
   "metadata": {},
   "source": [
    "Let's have a look at our collected data set.\n",
    "#### Draw molecules\n",
    "In the next steps, we add a molecule column to our datafame and look at the structures of the molecules with the highest pIC50 values. "
   ]
  },
  {
   "cell_type": "code",
   "execution_count": 25,
   "metadata": {},
   "outputs": [],
   "source": [
    "PandasTools.AddMoleculeColumnToFrame(output_df, smilesCol='smiles')"
   ]
  },
  {
   "cell_type": "markdown",
   "metadata": {},
   "source": [
    "Sort molecules by pIC50."
   ]
  },
  {
   "cell_type": "code",
   "execution_count": 26,
   "metadata": {},
   "outputs": [],
   "source": [
    "output_df.sort_values(by=\"pIC50\", ascending=False, inplace=True)\n",
    "output_df.reset_index(drop=True, inplace=True)"
   ]
  },
  {
   "cell_type": "markdown",
   "metadata": {},
   "source": [
    "Show the most active molecules = molecules with the highest pIC50 values."
   ]
  },
  {
   "cell_type": "code",
   "execution_count": 27,
   "metadata": {},
   "outputs": [
    {
     "data": {
      "text/html": [
       "<div>\n",
       "<style scoped>\n",
       "    .dataframe tbody tr th:only-of-type {\n",
       "        vertical-align: middle;\n",
       "    }\n",
       "\n",
       "    .dataframe tbody tr th {\n",
       "        vertical-align: top;\n",
       "    }\n",
       "\n",
       "    .dataframe thead th {\n",
       "        text-align: right;\n",
       "    }\n",
       "</style>\n",
       "<table border=\"1\" class=\"dataframe\">\n",
       "  <thead>\n",
       "    <tr style=\"text-align: right;\">\n",
       "      <th></th>\n",
       "      <th>molecule_chembl_id</th>\n",
       "      <th>units</th>\n",
       "      <th>IC50</th>\n",
       "      <th>pIC50</th>\n",
       "      <th>ROMol</th>\n",
       "    </tr>\n",
       "  </thead>\n",
       "  <tbody>\n",
       "    <tr>\n",
       "      <td>0</td>\n",
       "      <td>CHEMBL32076</td>\n",
       "      <td>nM</td>\n",
       "      <td>1.4</td>\n",
       "      <td>8.853872</td>\n",
       "      <td>&lt;img src=\"data:image/png;base64,iVBORw0KGgoAAA...</td>\n",
       "    </tr>\n",
       "    <tr>\n",
       "      <td>1</td>\n",
       "      <td>CHEMBL31741</td>\n",
       "      <td>nM</td>\n",
       "      <td>2</td>\n",
       "      <td>8.698970</td>\n",
       "      <td>&lt;img src=\"data:image/png;base64,iVBORw0KGgoAAA...</td>\n",
       "    </tr>\n",
       "    <tr>\n",
       "      <td>2</td>\n",
       "      <td>CHEMBL31718</td>\n",
       "      <td>nM</td>\n",
       "      <td>2.2</td>\n",
       "      <td>8.657577</td>\n",
       "      <td>&lt;img src=\"data:image/png;base64,iVBORw0KGgoAAA...</td>\n",
       "    </tr>\n",
       "    <tr>\n",
       "      <td>3</td>\n",
       "      <td>CHEMBL280853</td>\n",
       "      <td>nM</td>\n",
       "      <td>2.3</td>\n",
       "      <td>8.638272</td>\n",
       "      <td>&lt;img src=\"data:image/png;base64,iVBORw0KGgoAAA...</td>\n",
       "    </tr>\n",
       "    <tr>\n",
       "      <td>4</td>\n",
       "      <td>CHEMBL3144647</td>\n",
       "      <td>nM</td>\n",
       "      <td>3.3</td>\n",
       "      <td>8.481486</td>\n",
       "      <td>&lt;img src=\"data:image/png;base64,iVBORw0KGgoAAA...</td>\n",
       "    </tr>\n",
       "  </tbody>\n",
       "</table>\n",
       "</div>"
      ],
      "text/plain": [
       "  molecule_chembl_id units IC50     pIC50  \\\n",
       "0        CHEMBL32076    nM  1.4  8.853872   \n",
       "1        CHEMBL31741    nM    2  8.698970   \n",
       "2        CHEMBL31718    nM  2.2  8.657577   \n",
       "3       CHEMBL280853    nM  2.3  8.638272   \n",
       "4      CHEMBL3144647    nM  3.3  8.481486   \n",
       "\n",
       "                                               ROMol  \n",
       "0  <img src=\"data:image/png;base64,iVBORw0KGgoAAA...  \n",
       "1  <img src=\"data:image/png;base64,iVBORw0KGgoAAA...  \n",
       "2  <img src=\"data:image/png;base64,iVBORw0KGgoAAA...  \n",
       "3  <img src=\"data:image/png;base64,iVBORw0KGgoAAA...  \n",
       "4  <img src=\"data:image/png;base64,iVBORw0KGgoAAA...  "
      ]
     },
     "execution_count": 27,
     "metadata": {},
     "output_type": "execute_result"
    }
   ],
   "source": [
    "output_df.drop(\"smiles\", axis=1).head()"
   ]
  },
  {
   "cell_type": "markdown",
   "metadata": {},
   "source": [
    "#### Write output file\n",
    "To use the data for the following talktorials, we save the data as csv file. Note that it is advisable to drop the molecule column (only contains an image of the molecules) when saving the data."
   ]
  },
  {
   "cell_type": "code",
   "execution_count": 28,
   "metadata": {
    "scrolled": true
   },
   "outputs": [],
   "source": [
    "output_df.drop(\"ROMol\", axis=1).to_csv(\"./EGFR_compounds.csv\")"
   ]
  },
  {
   "cell_type": "markdown",
   "metadata": {},
   "source": [
    "## Converting SMILES to 3D mol2 molecules\n",
    "MaPhi require Mol2 format for calculations, it is necessary to transform SMILE information into 3D structure. Note that protonation states of molecules are not according to a defined pH. For your system it is important to evaluate pKa and generate structures with a correct protonation states. Molecules in Mol2 format will be stored in a directory called \"molecules_mol2\". Then, 40 molecules will be drawn for checking the correct structure."
   ]
  },
  {
   "cell_type": "code",
   "execution_count": 29,
   "metadata": {},
   "outputs": [
    {
     "data": {
      "image/png": "[encoded data removed]",
      "text/plain": [
       "<PIL.PngImagePlugin.PngImageFile image mode=RGB size=800x2000 at 0x1461797D1A58>"
      ]
     },
     "execution_count": 29,
     "metadata": {},
     "output_type": "execute_result"
    }
   ],
   "source": [
    "import subprocess\n",
    "import shutil\n",
    "import os\n",
    "from rdkit import Chem\n",
    "import itertools\n",
    "from rdkit.Chem import Draw\n",
    "\n",
    "save_path =  os.getcwd() + \"/\" + \"molecules_mol2\"\n",
    "if os.path.exists(save_path):\n",
    "    shutil.rmtree(save_path, ignore_errors=True)\n",
    "    os.mkdir(save_path)\n",
    "else:\n",
    "    os.mkdir(save_path)\n",
    "    \n",
    "    \n",
    "#print(output_df.drop)\n",
    "\n",
    "for index, row in output_df.iterrows():\n",
    "    #print(row['smiles'])\n",
    "    smile_list =[row['smiles']] \n",
    "    chembl_id_list =[row['molecule_chembl_id']] \n",
    "    openbabel=\"/home/jyosa/anaconda3/bin/obabel\"\n",
    "    subprocess.call(openbabel + str(\"\\t-:\\\"\") +   row['smiles']  + str(\"\\\"\\t-omol2\\t\") + \"-O\" + save_path + \"/\" + str(row['molecule_chembl_id']) + \".mol2 --gen3d\", shell=True)\n",
    "Draw.MolsToGridImage(list(output_df.ROMol[0:40]), \n",
    "                    legends=list(output_df.molecule_chembl_id[50:240]), \n",
    "                    molsPerRow=4) "
   ]
  },
  {
   "cell_type": "code",
   "execution_count": null,
   "metadata": {},
   "outputs": [],
   "source": []
  }
 ],
 "metadata": {
  "kernelspec": {
   "display_name": "teachopencadd",
   "language": "python",
   "name": "teachopencadd"
  },
  "language_info": {
   "codemirror_mode": {
    "name": "ipython",
    "version": 3
   },
   "file_extension": ".py",
   "mimetype": "text/x-python",
   "name": "python",
   "nbconvert_exporter": "python",
   "pygments_lexer": "ipython3",
   "version": "3.6.7"
  }
 },
 "nbformat": 4,
 "nbformat_minor": 2
}
